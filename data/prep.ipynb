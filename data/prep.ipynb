{
 "cells": [
  {
   "cell_type": "code",
   "execution_count": null,
   "id": "e6133f68-4528-4f31-8846-80ec78e48356",
   "metadata": {},
   "outputs": [],
   "source": [
    "import polars as pl"
   ]
  },
  {
   "cell_type": "code",
   "execution_count": null,
   "id": "87733779-17ed-43ae-a73d-344738c4dc8b",
   "metadata": {},
   "outputs": [],
   "source": [
    "RAW_DATA = \"data_2021_main_dvs-soti_v1.csv\""
   ]
  },
  {
   "cell_type": "code",
   "execution_count": null,
   "id": "72467a8b-5a4c-474a-aed4-c87d976dce11",
   "metadata": {},
   "outputs": [],
   "source": [
    "df = pl.scan_csv(RAW_DATA)"
   ]
  },
  {
   "cell_type": "code",
   "execution_count": null,
   "id": "7b4fd594-b2fe-405b-b3bd-38bebbbfb307",
   "metadata": {},
   "outputs": [],
   "source": [
    "# type(df)\n",
    "# df.fetch(5)\n",
    "df.fetch(1)\n",
    "# df.columns"
   ]
  },
  {
   "cell_type": "code",
   "execution_count": null,
   "id": "c5509839-31bd-4def-8157-e231cf3202f6",
   "metadata": {},
   "outputs": [],
   "source": [
    "df.select([pl.col(\"chronID\"), pl.col(\"^ToolsForDV_.*$\")]).collect()"
   ]
  },
  {
   "cell_type": "markdown",
   "id": "43492965-905b-4680-8fa3-2dad0fa2d006",
   "metadata": {},
   "source": [
    "---"
   ]
  }
 ],
 "metadata": {
  "kernelspec": {
   "display_name": "Python 3",
   "language": "python",
   "name": "python3"
  },
  "language_info": {
   "codemirror_mode": {
    "name": "ipython",
    "version": 3
   },
   "file_extension": ".py",
   "mimetype": "text/x-python",
   "name": "python",
   "nbconvert_exporter": "python",
   "pygments_lexer": "ipython3",
   "version": "3.6.13"
  }
 },
 "nbformat": 4,
 "nbformat_minor": 5
}
