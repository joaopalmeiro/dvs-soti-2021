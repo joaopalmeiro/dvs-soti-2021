{
 "cells": [
  {
   "cell_type": "code",
   "execution_count": null,
   "id": "e6133f68-4528-4f31-8846-80ec78e48356",
   "metadata": {},
   "outputs": [],
   "source": [
    "import polars as pl\n",
    "\n",
    "from constants import (\n",
    "    FE_SRC_FOLDER,\n",
    "    ID_COL,\n",
    "    NOT_USE_COL,\n",
    "    RANK_COL,\n",
    "    RAW_DATA,\n",
    "    TOOL_COL,\n",
    "    TOOL_COUNTS_DATA,\n",
    "    TOOLS_COL_PREFIX,\n",
    "    TOOLS_MAP,\n",
    "    TOOLS_OTHER_COL,\n",
    "    TOTAL_COUNT_COL,\n",
    "    USE_COL,\n",
    ")"
   ]
  },
  {
   "cell_type": "code",
   "execution_count": null,
   "id": "a7967a18-83c4-41de-86ce-5529a4f8a84c",
   "metadata": {},
   "outputs": [],
   "source": [
    "pl.__version__"
   ]
  },
  {
   "cell_type": "code",
   "execution_count": null,
   "id": "72467a8b-5a4c-474a-aed4-c87d976dce11",
   "metadata": {},
   "outputs": [],
   "source": [
    "df = pl.scan_csv(RAW_DATA)"
   ]
  },
  {
   "cell_type": "code",
   "execution_count": null,
   "id": "7b4fd594-b2fe-405b-b3bd-38bebbbfb307",
   "metadata": {},
   "outputs": [],
   "source": [
    "# df.collect().shape\n",
    "# type(df)\n",
    "# df.fetch(5)\n",
    "df.fetch(1)\n",
    "# df.columns"
   ]
  },
  {
   "cell_type": "code",
   "execution_count": null,
   "id": "c5509839-31bd-4def-8157-e231cf3202f6",
   "metadata": {},
   "outputs": [],
   "source": [
    "q_tools = df.select([pl.col(ID_COL), pl.col(f\"^{TOOLS_COL_PREFIX}.*$\")]).drop(\n",
    "    TOOLS_OTHER_COL\n",
    ")"
   ]
  },
  {
   "cell_type": "code",
   "execution_count": null,
   "id": "177a907e-6009-4c68-ac51-8388ab6e68ea",
   "metadata": {},
   "outputs": [],
   "source": [
    "# tools_cols = [\n",
    "#     col\n",
    "#     for col in df.columns\n",
    "#     if col.startswith(TOOLS_COL_PREFIX) and col != f\"{TOOLS_COL_PREFIX}Other__\"\n",
    "# ]\n",
    "# tools_cols = [\n",
    "#     pl.col(col)\n",
    "#     for col in df.columns\n",
    "#     if (col.startswith(TOOLS_COL_PREFIX) and col != f\"{TOOLS_COL_PREFIX}Other__\")\n",
    "#     or col == \"chronID\"\n",
    "# ]\n",
    "# tools_cols\n",
    "\n",
    "# q_tools = df.select(tools_cols)"
   ]
  },
  {
   "cell_type": "code",
   "execution_count": null,
   "id": "31ca9b23-3676-4f0e-af9c-eaacad9600cb",
   "metadata": {},
   "outputs": [],
   "source": [
    "print(q_tools.describe_plan())"
   ]
  },
  {
   "cell_type": "code",
   "execution_count": null,
   "id": "36584b8b-1659-4654-8b7c-ce7eeb19f2ee",
   "metadata": {},
   "outputs": [],
   "source": [
    "print(q_tools.describe_optimized_plan())"
   ]
  },
  {
   "cell_type": "code",
   "execution_count": null,
   "id": "b0b388fb-d691-4e4d-8c34-745bc899b385",
   "metadata": {},
   "outputs": [],
   "source": [
    "# df_tools = q_tools.collect(no_optimization=False)\n",
    "# df_tools = q_tools.collect(no_optimization=True)\n",
    "\n",
    "# More info:\n",
    "# - https://github.com/pola-rs/polars/issues/1659#issuecomment-956499225\n",
    "\n",
    "# df_tools = q_tools.collect(projection_pushdown=True)\n",
    "df_tools = q_tools.collect(projection_pushdown=False)"
   ]
  },
  {
   "cell_type": "code",
   "execution_count": null,
   "id": "4054bfe1-ab79-437a-90d7-3ca1a0c68c17",
   "metadata": {},
   "outputs": [],
   "source": [
    "# type(df_tools)\n",
    "df_tools.shape"
   ]
  },
  {
   "cell_type": "code",
   "execution_count": null,
   "id": "84ce8427-37d8-4e03-b624-01692f49a8b8",
   "metadata": {},
   "outputs": [],
   "source": [
    "df_tools[ID_COL].n_unique()"
   ]
  },
  {
   "cell_type": "code",
   "execution_count": null,
   "id": "a3a1f0de-ee35-496b-8d16-6e545e6c0acc",
   "metadata": {},
   "outputs": [],
   "source": [
    "df_tools.head()"
   ]
  },
  {
   "cell_type": "code",
   "execution_count": null,
   "id": "2a6b0e60-caf2-4ac2-803b-b74ac0885540",
   "metadata": {},
   "outputs": [],
   "source": [
    "df_tools.tail()"
   ]
  },
  {
   "cell_type": "code",
   "execution_count": null,
   "id": "e9a2ae06-dc82-4908-a1e9-effb80869a42",
   "metadata": {},
   "outputs": [],
   "source": [
    "df_tools[TOOLS_COL_PREFIX].value_counts()"
   ]
  },
  {
   "cell_type": "code",
   "execution_count": null,
   "id": "f4456d22-1145-47b0-a52b-b26d5c4a1d3c",
   "metadata": {},
   "outputs": [],
   "source": [
    "df_tools[f\"{TOOLS_COL_PREFIX}ArcGIS\"].value_counts()"
   ]
  },
  {
   "cell_type": "code",
   "execution_count": null,
   "id": "c95e96ab-d666-4985-80f1-dc595e6b9b51",
   "metadata": {},
   "outputs": [],
   "source": [
    "df_tools[f\"{TOOLS_COL_PREFIX}D3\"].value_counts()"
   ]
  },
  {
   "cell_type": "code",
   "execution_count": null,
   "id": "d3864461-86a4-4f78-b2f7-0ed69c14d366",
   "metadata": {},
   "outputs": [],
   "source": [
    "df_tools.null_count()"
   ]
  },
  {
   "cell_type": "code",
   "execution_count": null,
   "id": "c789d111-58a2-4e30-bc79-5ed263bd6ef6",
   "metadata": {},
   "outputs": [],
   "source": [
    "predicate = pl.all().exclude([ID_COL, TOOLS_COL_PREFIX]).str.contains(\"^$\")\n",
    "\n",
    "# q_count_tools = df_tools.lazy().select(\n",
    "#     [\n",
    "#         predicate.sum().suffix(\"_notuse\"),\n",
    "#         predicate.is_not().sum().suffix(\"_use\"),\n",
    "#     ]\n",
    "# )\n",
    "\n",
    "# q_count_tools.collect().transpose(\n",
    "#     include_header=True, header_name=\"tool\", column_names=[\"count\"]\n",
    "# )\n",
    "\n",
    "q_use_tools = df_tools.lazy().select(predicate.is_not().sum())\n",
    "# q_use_tools.collect()\n",
    "\n",
    "q_not_use_tools = df_tools.lazy().select(predicate.sum())\n",
    "# q_not_use_tools.collect()"
   ]
  },
  {
   "cell_type": "code",
   "execution_count": null,
   "id": "15bcb856-d133-478d-a068-7e3ae16a3859",
   "metadata": {},
   "outputs": [],
   "source": [
    "df_use_tools = q_use_tools.collect().transpose(\n",
    "    include_header=True, header_name=TOOL_COL, column_names=[USE_COL]\n",
    ")\n",
    "\n",
    "df_not_use_tools = q_not_use_tools.collect().transpose(\n",
    "    include_header=True, header_name=TOOL_COL, column_names=[NOT_USE_COL]\n",
    ")\n",
    "\n",
    "# df_use_tools.head()\n",
    "# df_not_use_tools.head()"
   ]
  },
  {
   "cell_type": "code",
   "execution_count": null,
   "id": "efa8d88c-2b60-48e8-99e5-b1d22b1db9b7",
   "metadata": {},
   "outputs": [],
   "source": [
    "# ?pl.Expr.rank"
   ]
  },
  {
   "cell_type": "code",
   "execution_count": null,
   "id": "9bc26e46-daa0-4cd9-9429-35dfb1b704eb",
   "metadata": {},
   "outputs": [],
   "source": [
    "df_count_tools = df_use_tools.join(df_not_use_tools, on=TOOL_COL)\n",
    "\n",
    "df_counts_tools = df_count_tools.with_columns(\n",
    "    [\n",
    "        pl.col(TOOL_COL).str.slice(start=len(TOOLS_COL_PREFIX)),\n",
    "        (pl.col(USE_COL) + pl.col(NOT_USE_COL)).alias(TOTAL_COUNT_COL),\n",
    "        pl.col(USE_COL).rank(method=\"ordinal\", reverse=True).alias(RANK_COL),\n",
    "    ]\n",
    ")"
   ]
  },
  {
   "cell_type": "code",
   "execution_count": null,
   "id": "a3df28ae-95aa-4494-8e87-6a8ca76fdc22",
   "metadata": {},
   "outputs": [],
   "source": [
    "df_counts_tools.head()"
   ]
  },
  {
   "cell_type": "code",
   "execution_count": null,
   "id": "39291a66-217f-4e8a-b9da-75926c84e045",
   "metadata": {},
   "outputs": [],
   "source": [
    "df_counts_tools[RANK_COL].value_counts().sort(by=\"counts\").head()"
   ]
  },
  {
   "cell_type": "code",
   "execution_count": null,
   "id": "34cfb612-11f8-442d-b0a1-2a71ce032654",
   "metadata": {},
   "outputs": [],
   "source": [
    "df_counts_tools[TOOL_COL].to_list()"
   ]
  },
  {
   "cell_type": "code",
   "execution_count": null,
   "id": "ed27a337-a363-422b-a407-a67fc8e29eb6",
   "metadata": {},
   "outputs": [],
   "source": [
    "# Adapted from: https://pola-rs.github.io/polars-book/user-guide/howcani/apply/udfs.html#apply-custom-functions\n",
    "def rename_tools(tool: str) -> str:\n",
    "    return TOOLS_MAP.get(tool, tool)\n",
    "\n",
    "\n",
    "df_counts_tools = df_counts_tools.with_column(pl.col(TOOL_COL).apply(rename_tools))"
   ]
  },
  {
   "cell_type": "code",
   "execution_count": null,
   "id": "66bd9fac-e823-4eed-8ffb-8662f22cae51",
   "metadata": {},
   "outputs": [],
   "source": [
    "df_counts_tools.head()"
   ]
  },
  {
   "cell_type": "code",
   "execution_count": null,
   "id": "580b471b-374f-4f96-9da5-a3685fe10675",
   "metadata": {},
   "outputs": [],
   "source": [
    "df_counts_tools.tail()"
   ]
  },
  {
   "cell_type": "code",
   "execution_count": null,
   "id": "f0a4cfcf-253c-40e0-8885-4726042cd3bd",
   "metadata": {},
   "outputs": [],
   "source": [
    "df_counts_tools[TOTAL_COUNT_COL].value_counts()"
   ]
  },
  {
   "cell_type": "code",
   "execution_count": null,
   "id": "21b06287-d3e9-4a0d-96f2-7bac7e26df0b",
   "metadata": {},
   "outputs": [],
   "source": [
    "df_counts_tools.to_csv(f\"{TOOL_COUNTS_DATA}.csv\")"
   ]
  },
  {
   "cell_type": "code",
   "execution_count": null,
   "id": "056a261c-f30d-4cd8-80fc-7634be7aed9e",
   "metadata": {},
   "outputs": [],
   "source": [
    "FE_SRC_FOLDER.resolve()"
   ]
  },
  {
   "cell_type": "code",
   "execution_count": null,
   "id": "b0caab3a-66be-467e-85b8-82e8ba37dfd8",
   "metadata": {},
   "outputs": [],
   "source": [
    "# print(df_counts_tools.to_json(pretty=True))\n",
    "\n",
    "# indent = 0\n",
    "indent = 2\n",
    "df_counts_tools.to_pandas().to_json(\n",
    "    FE_SRC_FOLDER / f\"{TOOL_COUNTS_DATA}.json\",\n",
    "    orient=\"records\",\n",
    "    force_ascii=False,\n",
    "    indent=indent,\n",
    ")"
   ]
  },
  {
   "cell_type": "markdown",
   "id": "43492965-905b-4680-8fa3-2dad0fa2d006",
   "metadata": {},
   "source": [
    "---"
   ]
  }
 ],
 "metadata": {
  "kernelspec": {
   "display_name": "Python 3",
   "language": "python",
   "name": "python3"
  },
  "language_info": {
   "codemirror_mode": {
    "name": "ipython",
    "version": 3
   },
   "file_extension": ".py",
   "mimetype": "text/x-python",
   "name": "python",
   "nbconvert_exporter": "python",
   "pygments_lexer": "ipython3",
   "version": "3.6.13"
  }
 },
 "nbformat": 4,
 "nbformat_minor": 5
}
