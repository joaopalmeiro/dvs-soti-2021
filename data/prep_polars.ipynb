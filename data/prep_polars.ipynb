{
 "cells": [
  {
   "cell_type": "code",
   "execution_count": null,
   "id": "e6133f68-4528-4f31-8846-80ec78e48356",
   "metadata": {},
   "outputs": [],
   "source": [
    "import polars as pl"
   ]
  },
  {
   "cell_type": "code",
   "execution_count": null,
   "id": "87733779-17ed-43ae-a73d-344738c4dc8b",
   "metadata": {},
   "outputs": [],
   "source": [
    "RAW_DATA = \"data_2021_main_dvs-soti_v1.csv\"\n",
    "TOOLS_COL_PREFIX = \"ToolsForDV_\""
   ]
  },
  {
   "cell_type": "code",
   "execution_count": null,
   "id": "72467a8b-5a4c-474a-aed4-c87d976dce11",
   "metadata": {},
   "outputs": [],
   "source": [
    "df = pl.scan_csv(RAW_DATA)"
   ]
  },
  {
   "cell_type": "code",
   "execution_count": null,
   "id": "7b4fd594-b2fe-405b-b3bd-38bebbbfb307",
   "metadata": {},
   "outputs": [],
   "source": [
    "# df.collect().shape\n",
    "# type(df)\n",
    "# df.fetch(5)\n",
    "df.fetch(1)\n",
    "# df.columns"
   ]
  },
  {
   "cell_type": "code",
   "execution_count": null,
   "id": "c5509839-31bd-4def-8157-e231cf3202f6",
   "metadata": {},
   "outputs": [],
   "source": [
    "q_tools = df.select([pl.col(\"chronID\"), pl.col(f\"^{TOOLS_COL_PREFIX}.*$\")]).drop(f\"{TOOLS_COL_PREFIX}Other__\")"
   ]
  },
  {
   "cell_type": "code",
   "execution_count": null,
   "id": "177a907e-6009-4c68-ac51-8388ab6e68ea",
   "metadata": {},
   "outputs": [],
   "source": [
    "# tools_cols = [col for col in df.columns if col.startswith(TOOLS_COL_PREFIX) and col != f\"{TOOLS_COL_PREFIX}Other__\"]\n",
    "# tools_cols = [pl.col(col) for col in df.columns if (col.startswith(TOOLS_COL_PREFIX) and col != f\"{TOOLS_COL_PREFIX}Other__\") or col == \"chronID\"]\n",
    "# tools_cols\n",
    "\n",
    "# q_tools = df.select(tools_cols)"
   ]
  },
  {
   "cell_type": "code",
   "execution_count": null,
   "id": "31ca9b23-3676-4f0e-af9c-eaacad9600cb",
   "metadata": {},
   "outputs": [],
   "source": [
    "print(q_tools.describe_plan())"
   ]
  },
  {
   "cell_type": "code",
   "execution_count": null,
   "id": "36584b8b-1659-4654-8b7c-ce7eeb19f2ee",
   "metadata": {},
   "outputs": [],
   "source": [
    "print(q_tools.describe_optimized_plan())"
   ]
  },
  {
   "cell_type": "code",
   "execution_count": null,
   "id": "b0b388fb-d691-4e4d-8c34-745bc899b385",
   "metadata": {},
   "outputs": [],
   "source": [
    "# df_tools = q_tools.collect(no_optimization=False)\n",
    "# df_tools = q_tools.collect(no_optimization=True)\n",
    "\n",
    "# More info:\n",
    "# - https://github.com/pola-rs/polars/issues/1659#issuecomment-956499225\n",
    "\n",
    "# df_tools = q_tools.collect(projection_pushdown=True)\n",
    "df_tools = q_tools.collect(projection_pushdown=False)"
   ]
  },
  {
   "cell_type": "code",
   "execution_count": null,
   "id": "4054bfe1-ab79-437a-90d7-3ca1a0c68c17",
   "metadata": {},
   "outputs": [],
   "source": [
    "# type(df_tools)\n",
    "df_tools.shape"
   ]
  },
  {
   "cell_type": "code",
   "execution_count": null,
   "id": "84ce8427-37d8-4e03-b624-01692f49a8b8",
   "metadata": {},
   "outputs": [],
   "source": [
    "df_tools[\"chronID\"].n_unique()"
   ]
  },
  {
   "cell_type": "code",
   "execution_count": null,
   "id": "a3a1f0de-ee35-496b-8d16-6e545e6c0acc",
   "metadata": {},
   "outputs": [],
   "source": [
    "df_tools.head()"
   ]
  },
  {
   "cell_type": "code",
   "execution_count": null,
   "id": "2a6b0e60-caf2-4ac2-803b-b74ac0885540",
   "metadata": {},
   "outputs": [],
   "source": [
    "df_tools.tail()"
   ]
  },
  {
   "cell_type": "code",
   "execution_count": null,
   "id": "e9a2ae06-dc82-4908-a1e9-effb80869a42",
   "metadata": {},
   "outputs": [],
   "source": [
    "df_tools[TOOLS_COL_PREFIX].value_counts()"
   ]
  },
  {
   "cell_type": "markdown",
   "id": "43492965-905b-4680-8fa3-2dad0fa2d006",
   "metadata": {},
   "source": [
    "---"
   ]
  }
 ],
 "metadata": {
  "kernelspec": {
   "display_name": "Python 3",
   "language": "python",
   "name": "python3"
  },
  "language_info": {
   "codemirror_mode": {
    "name": "ipython",
    "version": 3
   },
   "file_extension": ".py",
   "mimetype": "text/x-python",
   "name": "python",
   "nbconvert_exporter": "python",
   "pygments_lexer": "ipython3",
   "version": "3.6.13"
  }
 },
 "nbformat": 4,
 "nbformat_minor": 5
}
